{
 "cells": [
  {
   "cell_type": "code",
   "execution_count": 240,
   "id": "6f1bf0da",
   "metadata": {},
   "outputs": [],
   "source": [
    "from tkinter import *\n",
    "from playsound import playsound\n",
    "import math"
   ]
  },
  {
   "cell_type": "code",
   "execution_count": 241,
   "id": "14ce1369",
   "metadata": {},
   "outputs": [],
   "source": [
    "# https://colorhunt.co/\n",
    "BLACK = \"#191A19\"\n",
    "DARK_GREEN =\"#1E5128\"\n",
    "LIGHT_GREEN = \"#4E9F3D\"\n",
    "GRAY = \"#D8E9A8\"\n",
    "\n",
    "MAIN_FONT = \"Courier\""
   ]
  },
  {
   "cell_type": "code",
   "execution_count": 270,
   "id": "f37845f2",
   "metadata": {},
   "outputs": [],
   "source": [
    "# TAKE USER INPUT AND DISPLAY IT INSIDE TIMER_TEXT\n",
    "def set_user_time():\n",
    "    m = min_input.get()\n",
    "    s = sec_input.get()\n",
    "    \n",
    "    timer_text.config(text=f\"{m}:{s}\")\n",
    "\n",
    "    \n",
    "def reset_user_time():\n",
    "    timer_text.config(text=\"00:00\")\n",
    "    \n",
    "# COUNTDOWN MECHANISM\n",
    "\n",
    "def start_timer():\n",
    "    minutes = int(min_input.get()) * 60\n",
    "    seconds = int(sec_input.get())\n",
    "    \n",
    "    time = minutes + seconds\n",
    "    countdown(time)\n",
    "\n",
    "def countdown(count):\n",
    "    # 750s --> 12m and 30 sec\n",
    "    # floor gets rid of any digits after the decimal place\n",
    "    count_min = math.floor(count / 60)\n",
    "    count_sec = count % 60\n",
    "    \n",
    "    if count_sec == 0:\n",
    "        count_sec = \"00\"\n",
    "    elif count_sec < 10:\n",
    "        count_sec = f\"0{count_sec}\"\n",
    "        \n",
    "    if count_min < 10:\n",
    "        count_min = f\"0{count_min}\"\n",
    "    \n",
    "    timer_text.config(text=f\"{count_min}:{count_sec}\")\n",
    "    # print(count)\n",
    "    if count > 0:\n",
    "        window.after(1000, countdown, count - 1)\n",
    "    else:\n",
    "        playsound(\"./sound.wav\")"
   ]
  },
  {
   "cell_type": "code",
   "execution_count": 271,
   "id": "3653cb8b",
   "metadata": {},
   "outputs": [],
   "source": [
    "# math.floor(750 / 60) --> get a whole number\n",
    "# 750 % 60 --> get the seconds\n",
    "\n",
    "# we have to add the 30 seconds to 720 in order to get the operation done"
   ]
  },
  {
   "cell_type": "code",
   "execution_count": 272,
   "id": "9814b234",
   "metadata": {},
   "outputs": [],
   "source": [
    "# LAYOUT \n",
    "window = Tk()\n",
    "window.title(\"Timer application\")\n",
    "window.minsize(width=500,height=200)\n",
    "window.config(padx=30,pady=30, bg=BLACK)\n",
    "\n",
    "\n",
    "# ENTRY\n",
    "min_input = Entry(width=15)\n",
    "min_input.grid(column=1,row=2)\n",
    "\n",
    "sec_input = Entry(width=15)\n",
    "sec_input.grid(column=1,row=3)\n",
    "\n",
    "# LABELS\n",
    "timer_text = Label(text=\"00:00\", font=(MAIN_FONT, 50), bg=BLACK, fg=LIGHT_GREEN)\n",
    "timer_text.grid(column=1,row=0)\n",
    "\n",
    "label_input = Label(text=\"pass in a number\\n and press set timer\",\n",
    "                    bg=BLACK, fg=LIGHT_GREEN,\n",
    "                    font=(MAIN_FONT,14),\n",
    "                    padx=10, pady=10)\n",
    "label_input.grid(column=1,row=1)\n",
    "\n",
    "min_label = Label(text=\"minutes\", font=MAIN_FONT, fg=LIGHT_GREEN, bg=BLACK)\n",
    "min_label.grid(column=0,row=2)\n",
    "\n",
    "sec_label = Label(text=\"seconds\", font=MAIN_FONT, fg=LIGHT_GREEN, bg=BLACK)\n",
    "sec_label.grid(column=0,row=3)\n",
    "\n",
    "# BUTTONS\n",
    "set_timer = Button(text=\"set timer\", font=(MAIN_FONT, 10), command=set_user_time)\n",
    "reset_timer = Button(text=\"reset timer\", font=(MAIN_FONT, 10), command=reset_user_time)\n",
    "# when this button is pressed the \"start_timer\" function is triggered\n",
    "start = Button(text=\"start\", font=(MAIN_FONT, 10), command=start_timer)\n",
    "\n",
    "set_timer.grid(column=0, row=1)\n",
    "reset_timer.grid(column=2,row=1)\n",
    "start.grid(column=1, row=5, pady=10)\n",
    "\n",
    "\n",
    "window.mainloop()"
   ]
  },
  {
   "cell_type": "code",
   "execution_count": null,
   "id": "a907bf69",
   "metadata": {},
   "outputs": [],
   "source": []
  }
 ],
 "metadata": {
  "kernelspec": {
   "display_name": "Python 3",
   "language": "python",
   "name": "python3"
  },
  "language_info": {
   "codemirror_mode": {
    "name": "ipython",
    "version": 3
   },
   "file_extension": ".py",
   "mimetype": "text/x-python",
   "name": "python",
   "nbconvert_exporter": "python",
   "pygments_lexer": "ipython3",
   "version": "3.9.2"
  }
 },
 "nbformat": 4,
 "nbformat_minor": 5
}
