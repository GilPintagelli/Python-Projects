{
 "cells": [
  {
   "cell_type": "code",
   "execution_count": 1,
   "metadata": {},
   "outputs": [],
   "source": [
    "# MOTIVATIONAL QUOTE EMAIL APPLICATION\n",
    "# send a motivational random quote via email on the current weekend"
   ]
  },
  {
   "cell_type": "code",
   "execution_count": 39,
   "metadata": {},
   "outputs": [],
   "source": [
    "import datetime as dt\n",
    "import random\n",
    "import smtplib\n",
    "import re"
   ]
  },
  {
   "cell_type": "code",
   "execution_count": 44,
   "metadata": {},
   "outputs": [
    {
     "name": "stdout",
     "output_type": "stream",
     "text": [
      "['“When you arise in the morning think of what a privilege it is to be alive, to think, to enjoy, to love…” – Marcus Aurelius\\n', '“Either you run the day or the day runs you.”– Jim Rohn\\n', '“Mondays are the start of the work week which offer new beginnings 52 times a year!“– David Dweck\\n']\n"
     ]
    }
   ],
   "source": [
    "# 1) OPEN THE TEXT AND TRANSFORM IT TO A LIST\n",
    "with open(\"./quotes.txt\", encoding=\"utf8\") as file:\n",
    "    quotes = file.readlines()\n",
    "\n",
    "# without the encoding we get an error\n",
    "# \"UnicodeDecodeError: 'charmap' codec can't decode byte 0x9d in position 110: character maps to <undefined>\"\n",
    "print(quotes[:3])"
   ]
  },
  {
   "cell_type": "code",
   "execution_count": 21,
   "metadata": {},
   "outputs": [
    {
     "name": "stdout",
     "output_type": "stream",
     "text": [
      "2021-12-22 17:20:06.933863\n",
      "2\n"
     ]
    }
   ],
   "source": [
    "# 2) CREATE A DATETIME OBJECT\n",
    "today = dt.datetime.today()\n",
    "print(today)\n",
    "\n",
    "# check ifday if the week is wednesday\n",
    "week_day = today.weekday()\n",
    "print(week_day)"
   ]
  },
  {
   "cell_type": "code",
   "execution_count": 87,
   "metadata": {},
   "outputs": [
    {
     "name": "stdout",
     "output_type": "stream",
     "text": [
      "It does not matter how slowly you go, so long as you do not stop.\n",
      " Confucius\n"
     ]
    }
   ],
   "source": [
    "# 3) SEND RANDOM QUOTE VIA EMAIL\n",
    "my_email = \"\"\n",
    "pw = \"\"\n",
    "target = \"\"\n",
    "message = random.choice(quotes).strip()\n",
    "# we need to remove the encoded character '\\u201c' --> “” and '\\u2013' the dash (-)\n",
    "message = re.sub(r'[“”-]', '',message)\n",
    "message = message.replace('–','\\n')\n",
    "\n",
    "# this is how the new message looks like\n",
    "print(message)"
   ]
  },
  {
   "cell_type": "code",
   "execution_count": 88,
   "metadata": {},
   "outputs": [],
   "source": [
    "# create connection with provider's server\n",
    "with smtplib.SMTP(\"smtp.gmail.com\") as connection:\n",
    "    # secure the connection\n",
    "    connection.starttls()\n",
    "    # login\n",
    "    connection.login(user=my_email,password=pw)\n",
    "    # if today is friday send an email\n",
    "    if week_day == 4:\n",
    "        connection.sendmail(from_addr=my_email, to_addrs=target, msg=f\"Subject:Quote of the day \\n\\n {message}\")\n",
    "        \n",
    "# https://stackoverflow.com/questions/65749446/unicodeencodeerror-ascii-codec-cant-encode-character-u201c-in-position-37"
   ]
  }
 ],
 "metadata": {
  "kernelspec": {
   "display_name": "Python 3",
   "language": "python",
   "name": "python3"
  },
  "language_info": {
   "codemirror_mode": {
    "name": "ipython",
    "version": 3
   },
   "file_extension": ".py",
   "mimetype": "text/x-python",
   "name": "python",
   "nbconvert_exporter": "python",
   "pygments_lexer": "ipython3",
   "version": "3.8.5"
  }
 },
 "nbformat": 4,
 "nbformat_minor": 5
}
