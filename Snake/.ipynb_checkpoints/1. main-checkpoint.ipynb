{
 "cells": [
  {
   "cell_type": "code",
   "execution_count": 1,
   "id": "6b566dd1",
   "metadata": {},
   "outputs": [
    {
     "ename": "NameError",
     "evalue": "name 'Snake' is not defined",
     "output_type": "error",
     "traceback": [
      "\u001b[1;31m---------------------------------------------------------------------------\u001b[0m",
      "\u001b[1;31mNameError\u001b[0m                                 Traceback (most recent call last)",
      "\u001b[1;32m<ipython-input-1-382dc7bf0214>\u001b[0m in \u001b[0;36m<module>\u001b[1;34m\u001b[0m\n\u001b[0;32m     20\u001b[0m \u001b[1;31m#from scoreboard import Score\u001b[0m\u001b[1;33m\u001b[0m\u001b[1;33m\u001b[0m\u001b[1;33m\u001b[0m\u001b[0m\n\u001b[0;32m     21\u001b[0m \u001b[1;33m\u001b[0m\u001b[0m\n\u001b[1;32m---> 22\u001b[1;33m \u001b[0msnakeone\u001b[0m \u001b[1;33m=\u001b[0m \u001b[0mSnake\u001b[0m\u001b[1;33m(\u001b[0m\u001b[1;33m)\u001b[0m\u001b[1;33m\u001b[0m\u001b[1;33m\u001b[0m\u001b[0m\n\u001b[0m\u001b[0;32m     23\u001b[0m \u001b[0msnake_food\u001b[0m \u001b[1;33m=\u001b[0m \u001b[0mFood\u001b[0m\u001b[1;33m(\u001b[0m\u001b[1;33m)\u001b[0m\u001b[1;33m\u001b[0m\u001b[1;33m\u001b[0m\u001b[0m\n\u001b[0;32m     24\u001b[0m \u001b[0mgame_score\u001b[0m \u001b[1;33m=\u001b[0m \u001b[0mScore\u001b[0m\u001b[1;33m(\u001b[0m\u001b[1;33m)\u001b[0m\u001b[1;33m\u001b[0m\u001b[1;33m\u001b[0m\u001b[0m\n",
      "\u001b[1;31mNameError\u001b[0m: name 'Snake' is not defined"
     ]
    }
   ],
   "source": [
    "from turtle import Turtle, Screen\n",
    "import time\n",
    "\n",
    "#turtle = Turtle()\n",
    "\n",
    "screen = Screen()\n",
    "\n",
    "screen.setup(width=600,height=600)\n",
    "\n",
    "screen.bgcolor('yellowgreen')\n",
    "\n",
    "screen.title(\"Snake Game\")\n",
    "\n",
    "screen.tracer(0)\n",
    "\n",
    "#--------------------------------\n",
    "\n",
    "from snake import Snake\n",
    "from food import Food\n",
    "from scoreboard import Score\n",
    "\n",
    "snakeone = Snake()\n",
    "snake_food = Food()\n",
    "game_score = Score()\n",
    "\n",
    "screen.listen()\n",
    "screen.onkey(key=\"Up\",fun=snakeone.up)\n",
    "screen.onkey(key=\"Down\",fun=snakeone.down)\n",
    "screen.onkey(key=\"Left\",fun=snakeone.left)\n",
    "screen.onkey(key=\"Right\",fun=snakeone.right)\n",
    "\n",
    "\n",
    "game_is_on = True\n",
    "\n",
    "while game_is_on:\n",
    "    \n",
    "    screen.update()\n",
    "    time.sleep(.1)\n",
    "    snakeone.move()\n",
    "    snake_food.move()\n",
    "    # detect collision between food and snake\n",
    "    # for this we're going to use the distance() from the turtle package\n",
    "    # what is the distance from the snake's head and the food?\n",
    "    if snakeone.head.distance(snake_food) < 15:\n",
    "        snake_food.refresh()\n",
    "        game_score.update()\n",
    "        snakeone.extend()\n",
    "        \n",
    "    # detect collision with wall\n",
    "    if snakeone.head.xcor() > 295 or snakeone.head.xcor() < -295 or snakeone.head.ycor() > 295 or snakeone.head.ycor() < -295:\n",
    "        game_score.game_over()\n",
    "        game_is_on = False\n",
    "        \n",
    "    # detect collision with tail --> if head collides with any segment in the tail then the game's over\n",
    "    # the problem is that the head is the first segment in the loop so it will be True\n",
    "    # we need a way to bypass the first segment\n",
    "    for seg in snakeone.segments[1:]:\n",
    "        if snakeone.head.distance(seg) < 10:\n",
    "            game_score.game_over()\n",
    "            game_is_on = False\n",
    "screen.exitonclick()"
   ]
  },
  {
   "cell_type": "code",
   "execution_count": null,
   "id": "34fb9472",
   "metadata": {},
   "outputs": [],
   "source": []
  }
 ],
 "metadata": {
  "kernelspec": {
   "display_name": "Python 3",
   "language": "python",
   "name": "python3"
  },
  "language_info": {
   "codemirror_mode": {
    "name": "ipython",
    "version": 3
   },
   "file_extension": ".py",
   "mimetype": "text/x-python",
   "name": "python",
   "nbconvert_exporter": "python",
   "pygments_lexer": "ipython3",
   "version": "3.9.2"
  }
 },
 "nbformat": 4,
 "nbformat_minor": 5
}
