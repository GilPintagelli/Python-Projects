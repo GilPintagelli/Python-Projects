{
 "cells": [
  {
   "cell_type": "code",
   "execution_count": 1,
   "id": "a8566a90",
   "metadata": {},
   "outputs": [],
   "source": [
    "# Today we're going to build snake.\n",
    "# As always, when we're thinking about a complex problem\n",
    "# the first step is to break dawn the problem.\n",
    "# In this case we're going to break down the problem in seven steps"
   ]
  },
  {
   "cell_type": "code",
   "execution_count": 2,
   "id": "2f699dd9",
   "metadata": {},
   "outputs": [],
   "source": [
    "# 1. create a snake body\n",
    "# 2. move the snake\n",
    "# 3. control the snake\n",
    "# 4. detect collision with food\n",
    "# 5. create a scoreboard\n",
    "# 6. detect collision with wall\n",
    "# 7. detect collision with tail"
   ]
  },
  {
   "cell_type": "markdown",
   "id": "16ed4ee6",
   "metadata": {},
   "source": [
    "---"
   ]
  },
  {
   "cell_type": "code",
   "execution_count": 1,
   "id": "df5b395c",
   "metadata": {},
   "outputs": [],
   "source": [
    "from turtle import Turtle, Screen\n",
    "import time\n",
    "\n",
    "# screen object\n",
    "screen = Screen()\n",
    "\n",
    "# set screen width and height\n",
    "screen.setup(width=600,height=600)\n",
    "\n",
    "# change the screen background color\n",
    "screen.bgcolor('black')\n",
    "\n",
    "# set the title of the window that shows up\n",
    "screen.title(\"Snake Game\")\n",
    "\n",
    "# turn off the tracer (animation) --> when it's turned off we can use the update() on our turtles\n",
    "screen.tracer(0)\n",
    "# until we don't call update, the screen isn't going to refresh\n",
    "# in our program we could describe each of this scenes and tell our program when it should redraw each picture"
   ]
  },
  {
   "cell_type": "code",
   "execution_count": 2,
   "id": "c2fd4698",
   "metadata": {},
   "outputs": [],
   "source": [
    "# 1 - CREATE A SNAKE BODY\n",
    "# here we can use tuples for the coordinates\n",
    "starting_positions = [(0,0), (-20,0), (-40,0)]\n",
    "# each segments start at 0,0 coordinates and then and only then gets positioned\n",
    "segments = []\n",
    "\n",
    "for position in starting_positions:\n",
    "    snake = Turtle(shape='square')\n",
    "    snake.penup()\n",
    "    # we can use tracer() along with update()\n",
    "    # tracer() turns off the animation when we create the squares, while update() draws a new scene with our changes  \n",
    "    snake.color('white')\n",
    "    snake.setpos(position)\n",
    "    segments.append(snake)"
   ]
  },
  {
   "cell_type": "code",
   "execution_count": 3,
   "id": "e97a5004",
   "metadata": {
    "collapsed": true
   },
   "outputs": [
    {
     "ename": "TclError",
     "evalue": "invalid command name \".!canvas\"",
     "output_type": "error",
     "traceback": [
      "\u001b[1;31m---------------------------------------------------------------------------\u001b[0m",
      "\u001b[1;31mTclError\u001b[0m                                  Traceback (most recent call last)",
      "\u001b[1;32m<ipython-input-3-cc7d4cfc36d9>\u001b[0m in \u001b[0;36m<module>\u001b[1;34m\u001b[0m\n\u001b[0;32m     22\u001b[0m         \u001b[0mnew_y\u001b[0m \u001b[1;33m=\u001b[0m \u001b[0msegments\u001b[0m\u001b[1;33m[\u001b[0m\u001b[0mseg_num\u001b[0m \u001b[1;33m-\u001b[0m \u001b[1;36m1\u001b[0m\u001b[1;33m]\u001b[0m\u001b[1;33m.\u001b[0m\u001b[0mycor\u001b[0m\u001b[1;33m(\u001b[0m\u001b[1;33m)\u001b[0m\u001b[1;33m\u001b[0m\u001b[1;33m\u001b[0m\u001b[0m\n\u001b[0;32m     23\u001b[0m         \u001b[1;31m# move the last segment to the second to last position\u001b[0m\u001b[1;33m\u001b[0m\u001b[1;33m\u001b[0m\u001b[1;33m\u001b[0m\u001b[0m\n\u001b[1;32m---> 24\u001b[1;33m         \u001b[0msegments\u001b[0m\u001b[1;33m[\u001b[0m\u001b[0mseg_num\u001b[0m\u001b[1;33m]\u001b[0m\u001b[1;33m.\u001b[0m\u001b[0mgoto\u001b[0m\u001b[1;33m(\u001b[0m\u001b[0mx\u001b[0m\u001b[1;33m=\u001b[0m\u001b[0mnew_x\u001b[0m\u001b[1;33m,\u001b[0m \u001b[0my\u001b[0m\u001b[1;33m=\u001b[0m\u001b[0mnew_y\u001b[0m\u001b[1;33m)\u001b[0m\u001b[1;33m\u001b[0m\u001b[1;33m\u001b[0m\u001b[0m\n\u001b[0m\u001b[0;32m     25\u001b[0m     \u001b[1;31m# we have moved the last and the second to last segments but not the very first segment\u001b[0m\u001b[1;33m\u001b[0m\u001b[1;33m\u001b[0m\u001b[1;33m\u001b[0m\u001b[0m\n\u001b[0;32m     26\u001b[0m     \u001b[0msegments\u001b[0m\u001b[1;33m[\u001b[0m\u001b[1;36m0\u001b[0m\u001b[1;33m]\u001b[0m\u001b[1;33m.\u001b[0m\u001b[0mforward\u001b[0m\u001b[1;33m(\u001b[0m\u001b[1;36m20\u001b[0m\u001b[1;33m)\u001b[0m\u001b[1;33m\u001b[0m\u001b[1;33m\u001b[0m\u001b[0m\n",
      "\u001b[1;32m~\\anaconda3\\envs\\python_course\\lib\\turtle.py\u001b[0m in \u001b[0;36mgoto\u001b[1;34m(self, x, y)\u001b[0m\n\u001b[0;32m   1775\u001b[0m             \u001b[0mself\u001b[0m\u001b[1;33m.\u001b[0m\u001b[0m_goto\u001b[0m\u001b[1;33m(\u001b[0m\u001b[0mVec2D\u001b[0m\u001b[1;33m(\u001b[0m\u001b[1;33m*\u001b[0m\u001b[0mx\u001b[0m\u001b[1;33m)\u001b[0m\u001b[1;33m)\u001b[0m\u001b[1;33m\u001b[0m\u001b[1;33m\u001b[0m\u001b[0m\n\u001b[0;32m   1776\u001b[0m         \u001b[1;32melse\u001b[0m\u001b[1;33m:\u001b[0m\u001b[1;33m\u001b[0m\u001b[1;33m\u001b[0m\u001b[0m\n\u001b[1;32m-> 1777\u001b[1;33m             \u001b[0mself\u001b[0m\u001b[1;33m.\u001b[0m\u001b[0m_goto\u001b[0m\u001b[1;33m(\u001b[0m\u001b[0mVec2D\u001b[0m\u001b[1;33m(\u001b[0m\u001b[0mx\u001b[0m\u001b[1;33m,\u001b[0m \u001b[0my\u001b[0m\u001b[1;33m)\u001b[0m\u001b[1;33m)\u001b[0m\u001b[1;33m\u001b[0m\u001b[1;33m\u001b[0m\u001b[0m\n\u001b[0m\u001b[0;32m   1778\u001b[0m \u001b[1;33m\u001b[0m\u001b[0m\n\u001b[0;32m   1779\u001b[0m     \u001b[1;32mdef\u001b[0m \u001b[0mhome\u001b[0m\u001b[1;33m(\u001b[0m\u001b[0mself\u001b[0m\u001b[1;33m)\u001b[0m\u001b[1;33m:\u001b[0m\u001b[1;33m\u001b[0m\u001b[1;33m\u001b[0m\u001b[0m\n",
      "\u001b[1;32m~\\anaconda3\\envs\\python_course\\lib\\turtle.py\u001b[0m in \u001b[0;36m_goto\u001b[1;34m(self, end)\u001b[0m\n\u001b[0;32m   3157\u001b[0m                       (self.currentLineItem,\n\u001b[0;32m   3158\u001b[0m                       \u001b[0mself\u001b[0m\u001b[1;33m.\u001b[0m\u001b[0mcurrentLine\u001b[0m\u001b[1;33m[\u001b[0m\u001b[1;33m:\u001b[0m\u001b[1;33m]\u001b[0m\u001b[1;33m,\u001b[0m\u001b[1;33m\u001b[0m\u001b[1;33m\u001b[0m\u001b[0m\n\u001b[1;32m-> 3159\u001b[1;33m                       \u001b[0mscreen\u001b[0m\u001b[1;33m.\u001b[0m\u001b[0m_pointlist\u001b[0m\u001b[1;33m(\u001b[0m\u001b[0mself\u001b[0m\u001b[1;33m.\u001b[0m\u001b[0mcurrentLineItem\u001b[0m\u001b[1;33m)\u001b[0m\u001b[1;33m,\u001b[0m\u001b[1;33m\u001b[0m\u001b[1;33m\u001b[0m\u001b[0m\n\u001b[0m\u001b[0;32m   3160\u001b[0m                       self.items[:])\n\u001b[0;32m   3161\u001b[0m                       )\n",
      "\u001b[1;32m~\\anaconda3\\envs\\python_course\\lib\\turtle.py\u001b[0m in \u001b[0;36m_pointlist\u001b[1;34m(self, item)\u001b[0m\n\u001b[0;32m    754\u001b[0m         (9.9999999999999982, 0.0)]\n\u001b[0;32m    755\u001b[0m         >>> \"\"\"\n\u001b[1;32m--> 756\u001b[1;33m         \u001b[0mcl\u001b[0m \u001b[1;33m=\u001b[0m \u001b[0mself\u001b[0m\u001b[1;33m.\u001b[0m\u001b[0mcv\u001b[0m\u001b[1;33m.\u001b[0m\u001b[0mcoords\u001b[0m\u001b[1;33m(\u001b[0m\u001b[0mitem\u001b[0m\u001b[1;33m)\u001b[0m\u001b[1;33m\u001b[0m\u001b[1;33m\u001b[0m\u001b[0m\n\u001b[0m\u001b[0;32m    757\u001b[0m         \u001b[0mpl\u001b[0m \u001b[1;33m=\u001b[0m \u001b[1;33m[\u001b[0m\u001b[1;33m(\u001b[0m\u001b[0mcl\u001b[0m\u001b[1;33m[\u001b[0m\u001b[0mi\u001b[0m\u001b[1;33m]\u001b[0m\u001b[1;33m,\u001b[0m \u001b[1;33m-\u001b[0m\u001b[0mcl\u001b[0m\u001b[1;33m[\u001b[0m\u001b[0mi\u001b[0m\u001b[1;33m+\u001b[0m\u001b[1;36m1\u001b[0m\u001b[1;33m]\u001b[0m\u001b[1;33m)\u001b[0m \u001b[1;32mfor\u001b[0m \u001b[0mi\u001b[0m \u001b[1;32min\u001b[0m \u001b[0mrange\u001b[0m\u001b[1;33m(\u001b[0m\u001b[1;36m0\u001b[0m\u001b[1;33m,\u001b[0m \u001b[0mlen\u001b[0m\u001b[1;33m(\u001b[0m\u001b[0mcl\u001b[0m\u001b[1;33m)\u001b[0m\u001b[1;33m,\u001b[0m \u001b[1;36m2\u001b[0m\u001b[1;33m)\u001b[0m\u001b[1;33m]\u001b[0m\u001b[1;33m\u001b[0m\u001b[1;33m\u001b[0m\u001b[0m\n\u001b[0;32m    758\u001b[0m         \u001b[1;32mreturn\u001b[0m  \u001b[0mpl\u001b[0m\u001b[1;33m\u001b[0m\u001b[1;33m\u001b[0m\u001b[0m\n",
      "\u001b[1;32m<string>\u001b[0m in \u001b[0;36mcoords\u001b[1;34m(self, *args, **kw)\u001b[0m\n",
      "\u001b[1;32m~\\anaconda3\\envs\\python_course\\lib\\tkinter\\__init__.py\u001b[0m in \u001b[0;36mcoords\u001b[1;34m(self, *args)\u001b[0m\n\u001b[0;32m   2764\u001b[0m         return [self.tk.getdouble(x) for x in\n\u001b[0;32m   2765\u001b[0m                            self.tk.splitlist(\n\u001b[1;32m-> 2766\u001b[1;33m                    self.tk.call((self._w, 'coords') + args))]\n\u001b[0m\u001b[0;32m   2767\u001b[0m \u001b[1;33m\u001b[0m\u001b[0m\n\u001b[0;32m   2768\u001b[0m     \u001b[1;32mdef\u001b[0m \u001b[0m_create\u001b[0m\u001b[1;33m(\u001b[0m\u001b[0mself\u001b[0m\u001b[1;33m,\u001b[0m \u001b[0mitemType\u001b[0m\u001b[1;33m,\u001b[0m \u001b[0margs\u001b[0m\u001b[1;33m,\u001b[0m \u001b[0mkw\u001b[0m\u001b[1;33m)\u001b[0m\u001b[1;33m:\u001b[0m \u001b[1;31m# Args: (val, val, ..., cnf={})\u001b[0m\u001b[1;33m\u001b[0m\u001b[1;33m\u001b[0m\u001b[0m\n",
      "\u001b[1;31mTclError\u001b[0m: invalid command name \".!canvas\""
     ]
    }
   ],
   "source": [
    "# 2 - MOVING THE SNAKE\n",
    "# usually if we want something to continuosly happen in our program we use a while loop\n",
    "# when the game is on we're going to move each of the segments\n",
    "game_is_on = True\n",
    "\n",
    "while game_is_on:\n",
    "    # each time we make the changes we want to happen and then call the update()\n",
    "    # to tell the screen to show a image each time\n",
    "    screen.update()\n",
    "    # as soon as we run the program we won't see the animation, just the drawing\n",
    "    # we only update the screen once the segments have moved forwards\n",
    "    time.sleep(1)\n",
    "    \n",
    "    # loop through the \"segments\" list\n",
    "    # the step is -1 becuase it loops backwards --> start=2,stop=0,step=-1\n",
    "    # len(segments) as starting point is better than a hard coding number because it changes automatically \n",
    "    # in the list we have three elements but it starts counting from 0, not 1, and that explains \"len(segments) - 1\"\n",
    "    # this loop will move only the first two items of the segmets list \n",
    "    for seg_num in range(len(segments) - 1,0,-1):\n",
    "        # get the coordinates of the second to last and the first one!\n",
    "        new_x = segments[seg_num - 1].xcor()\n",
    "        new_y = segments[seg_num - 1].ycor()\n",
    "        # move the last segment to the second to last position\n",
    "        segments[seg_num].goto(x=new_x, y=new_y)\n",
    "    # we have moved the last and the second to last segments but not the very first segment\n",
    "    segments[0].forward(20)"
   ]
  },
  {
   "cell_type": "code",
   "execution_count": 1,
   "id": "98ee7ebc",
   "metadata": {
    "collapsed": true
   },
   "outputs": [
    {
     "ename": "IndentationError",
     "evalue": "expected an indented block (<ipython-input-1-f810e0d97fe1>, line 7)",
     "output_type": "error",
     "traceback": [
      "\u001b[1;36m  File \u001b[1;32m\"<ipython-input-1-f810e0d97fe1>\"\u001b[1;36m, line \u001b[1;32m7\u001b[0m\n\u001b[1;33m    screen.listen()\u001b[0m\n\u001b[1;37m    ^\u001b[0m\n\u001b[1;31mIndentationError\u001b[0m\u001b[1;31m:\u001b[0m expected an indented block\n"
     ]
    }
   ],
   "source": [
    "# 3 - CONTROL THE SNAKE -- use the keybinding\n",
    "\n",
    "# these functionalities are going to be positioned between\n",
    "# the snake object and the flag variable (before the while loop)\n",
    "\n",
    "# EXAMPLE OF FUNCTION AS INPUT --> Higer Order Function\n",
    "# def move_up():\n",
    "#     tom.setheading(90)\n",
    "\n",
    "# call the listen method\n",
    "screen.listen()\n",
    "# this are the keys that the onkey function will detect\n",
    "# the function that we're going to bind is a function of the snake object\n",
    "screen.onkey(key=\"Up\",fun=snake.up)\n",
    "screen.onkey(key=\"Down\",fun=snake.down)\n",
    "screen.onkey(key=\"Left\",fun=snake.left)\n",
    "screen.onkey(key=\"Right\",fun=snake.right)"
   ]
  },
  {
   "cell_type": "code",
   "execution_count": null,
   "id": "27f2c071",
   "metadata": {},
   "outputs": [],
   "source": [
    "# our snake can go in opposite directions, but it shouldn't be allowed\n",
    "# how can we program this solution?\n",
    "\n",
    "# EXAPLE\n",
    "# self.head.setheading(90) --> in the snake.py file\n",
    "# when the head is pointing up we shouldn't allow it to go down\n",
    "\n",
    "def move_up():\n",
    "    # if the position of the first segment (the head) is 270 deg, it cannot go up\n",
    "    if segments[0].heading() != 270:\n",
    "        segments[0].setheading(90)"
   ]
  },
  {
   "cell_type": "code",
   "execution_count": null,
   "id": "7a08d4b9",
   "metadata": {},
   "outputs": [],
   "source": [
    "# 4 - CREATE FOOD (use class inheritance)\n",
    "# first create a food class by using class inheritance\n",
    "# give it appearance and behavior, just like the snake class does\n",
    "\n",
    "class Food(Turtle):\n",
    "    def __init__(self):\n",
    "        super().__init__()\n",
    "        self.shape(\"circular\")\n",
    "        self.penup()\n",
    "        self.shapesize(stretch_len=0.5,stretch_wid=0.5)\n",
    "        self.color(\"blue\")\n",
    "        self.speed(\"fastest\")\n",
    "        \n",
    "    def refresh(self):\n",
    "        # to create a random location\n",
    "        rand_x = random.randint(-280,280)\n",
    "        rand_y = random.randint(-280,280)\n",
    "        self.setpos(x=rand_x,y=rand_y)"
   ]
  },
  {
   "cell_type": "code",
   "execution_count": null,
   "id": "14ddb880",
   "metadata": {},
   "outputs": [],
   "source": [
    "# DETECT WHEN THE SNAKE AND FOOD COME INTO CONTACT\n",
    "# we're going to do this in the while loop\n",
    "    if snakeone.head.distance(snake_food) < 15:\n",
    "        snake_food.refresh()"
   ]
  },
  {
   "cell_type": "code",
   "execution_count": null,
   "id": "3717bfa6",
   "metadata": {},
   "outputs": [],
   "source": [
    "# 5 - CREATE A SCOREBOARD\n",
    "# make a py file and create a class called score by using class inheritance\n",
    "class Score(Turtle):\n",
    "    \n",
    "    def __init__(self):\n",
    "        \n",
    "        # superclass reference\n",
    "        super().__init__()\n",
    "        # attribute with default value\n",
    "        self.score = 0\n",
    "    \n",
    "        # appearance\n",
    "        self.hideturtle()\n",
    "        self.penup()\n",
    "        self.setpos(x=0,y=270)\n",
    "        self.color(\"white\")\n",
    "        # Angela created a function for this line of code called increase_score() and called it inside update() after clear()\n",
    "        # self.write(f\"Score: {self.score}\",align=\"center\",font=(\"Arial\",14,\"normal\"))\n",
    "        self.increase_score()\n",
    "        # why did Angela add this method inside the init function? \n",
    "        \n",
    "    \n",
    "    def increase_score(self):\n",
    "        self.write(f\"Score: {self.score}\",align=ALIGNMENT,font=FONT)\n",
    "        \n",
    "    # with this function starts \n",
    "    def update(self):        \n",
    "        self.score += 1\n",
    "        # after increasing the score we can clear the previous text that was written\n",
    "        self.clear()\n",
    "        self.increase_score()\n",
    "        self.setpos(x=0,y=270)"
   ]
  },
  {
   "cell_type": "code",
   "execution_count": null,
   "id": "7d9607f2",
   "metadata": {},
   "outputs": [],
   "source": [
    "# 6 - DETECT COLLISION WITH WALL\n",
    "# WHEN THE SNAKE HIT THE WALL THE GAME OVER SEQUENCE GETS TRIGGERED\n",
    "# GO IN THE WHILE LOOP and ADD A \"game over\" FUNCTION INSIDE SCOREBOARD\n",
    "    # detect collision with wall\n",
    "    if snakeone.head.xcor() > 295 or snakeone.head.xcor() < -295 or snakeone.head.ycor() > 295 or snakeone.head.ycor() < -295:\n",
    "        game_score.game_over()\n",
    "        game_is_on = False"
   ]
  },
  {
   "cell_type": "code",
   "execution_count": null,
   "id": "6f73a6a8",
   "metadata": {},
   "outputs": [],
   "source": [
    "# 7 - ADD SEGMENTS TO THE SNAKE EVERY SINGLE TIME IT HITS THE FOOD\n",
    "# + DETECT COLLISION WITH TAIL\n",
    "# GO IN THE WHILE LOOP AND ADD A SEGMENTS ON THE SNAKE FIRST --> to do that we have to change somenthing in snake.py\n",
    "for seg in snakeone.segments:\n",
    "    # this is the way to go!\n",
    "    if seg == snakeone.head:\n",
    "        pass\n",
    "    elif snakeone.head.distance(seg) < 10:\n",
    "        game_score.game_over()\n",
    "        game_is_on = False"
   ]
  },
  {
   "cell_type": "code",
   "execution_count": null,
   "id": "ba4a8787",
   "metadata": {},
   "outputs": [],
   "source": [
    "# this last section is a little bit wordy\n",
    "# instead of the for loop that loops through each segment of the list\n",
    "# we could use a concept called SLICING\n",
    "# e.g. list_x[2:5] --> we get a set of item slicing it from position 2 to pos 5\n",
    "# we can rewrite the code above as follow\n",
    "# [1:] --> from one to the end\n",
    "# [:5] --> from one up until five (five not included)\n",
    "for seg in snakeone.segments[1:]:\n",
    "    if snakeone.head.distance(seg) < 10:\n",
    "        game_score.game_over()\n",
    "        game_is_on = False\n",
    "        \n",
    "# in addition to slicing two numbers we can specify a number that sets the inrement\n",
    "# e.g. list_x = [2:-1:2]\n",
    "# slice from position two to the last but skip every second item\n",
    "# list_x = [::-1] --> reverses the list\n",
    "# it starts from the end all the way back from the beginning\n",
    "# this method of slicing also works for tuples!"
   ]
  },
  {
   "cell_type": "code",
   "execution_count": 1,
   "id": "1cab40d9",
   "metadata": {},
   "outputs": [
    {
     "name": "stdout",
     "output_type": "stream",
     "text": [
      "('mi', 'fa', 'sol')\n"
     ]
    }
   ],
   "source": [
    "list_x = (\"do\",\"re\",\"mi\",\"fa\",\"sol\",\"la\",\"si\")\n",
    "# slicing a tuple\n",
    "print(list_x[2:5])\n",
    "# the item n.5, \"la\", is not included"
   ]
  },
  {
   "cell_type": "code",
   "execution_count": null,
   "id": "806b7f29",
   "metadata": {},
   "outputs": [],
   "source": [
    "screen.exitonclick()"
   ]
  },
  {
   "cell_type": "markdown",
   "id": "200f9220",
   "metadata": {},
   "source": [
    "---"
   ]
  }
 ],
 "metadata": {
  "kernelspec": {
   "display_name": "Python 3",
   "language": "python",
   "name": "python3"
  },
  "language_info": {
   "codemirror_mode": {
    "name": "ipython",
    "version": 3
   },
   "file_extension": ".py",
   "mimetype": "text/x-python",
   "name": "python",
   "nbconvert_exporter": "python",
   "pygments_lexer": "ipython3",
   "version": "3.9.2"
  }
 },
 "nbformat": 4,
 "nbformat_minor": 5
}
