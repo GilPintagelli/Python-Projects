{
 "cells": [
  {
   "cell_type": "code",
   "execution_count": 1,
   "metadata": {},
   "outputs": [],
   "source": [
    "from turtle import Turtle, Screen\n",
    "import time\n",
    "\n",
    "\n",
    "screen = Screen()\n",
    "\n",
    "screen.setup(width=600,height=600)\n",
    "\n",
    "screen.bgcolor('yellowgreen')\n",
    "\n",
    "screen.title(\"Snake Game\")\n",
    "\n",
    "screen.tracer(0)\n",
    "\n",
    "#--------------------------------\n",
    "\n",
    "from snake import Snake\n",
    "from food import Food\n",
    "from scoreboard import Score\n",
    "\n",
    "snakeone = Snake()\n",
    "snake_food = Food()\n",
    "game_score = Score()\n",
    "\n",
    "screen.listen()\n",
    "screen.onkey(key=\"Up\",fun=snakeone.up)\n",
    "screen.onkey(key=\"Down\",fun=snakeone.down)\n",
    "screen.onkey(key=\"Left\",fun=snakeone.left)\n",
    "screen.onkey(key=\"Right\",fun=snakeone.right)\n",
    "\n",
    "\n",
    "game_is_on = True\n",
    "\n",
    "while game_is_on:\n",
    "    \n",
    "    screen.update()\n",
    "    time.sleep(.1)\n",
    "    snakeone.move()\n",
    "    snake_food.move()\n",
    "\n",
    "    if snakeone.head.distance(snake_food) < 15:\n",
    "        snake_food.refresh()\n",
    "        game_score.update()\n",
    "        snakeone.extend()\n",
    "\n",
    "    if snakeone.head.xcor() > 295 or snakeone.head.xcor() < -295 or snakeone.head.ycor() > 295 or snakeone.head.ycor() < -295:\n",
    "        game_score.game_over()\n",
    "        game_is_on = False\n",
    "        \n",
    "    for seg in snakeone.segments[1:]:\n",
    "        if snakeone.head.distance(seg) < 10:\n",
    "            game_score.game_over()\n",
    "            game_is_on = False\n",
    "screen.exitonclick()"
   ]
  },
  {
   "cell_type": "code",
   "execution_count": null,
   "metadata": {},
   "outputs": [],
   "source": []
  }
 ],
 "metadata": {
  "kernelspec": {
   "display_name": "Python 3",
   "language": "python",
   "name": "python3"
  },
  "language_info": {
   "codemirror_mode": {
    "name": "ipython",
    "version": 3
   },
   "file_extension": ".py",
   "mimetype": "text/x-python",
   "name": "python",
   "nbconvert_exporter": "python",
   "pygments_lexer": "ipython3",
   "version": "3.8.5"
  }
 },
 "nbformat": 4,
 "nbformat_minor": 5
}
