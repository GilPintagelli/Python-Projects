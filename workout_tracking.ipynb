{
 "cells": [
  {
   "cell_type": "code",
   "execution_count": 1,
   "metadata": {},
   "outputs": [],
   "source": [
    "import requests\n",
    "from datetime import datetime\n",
    "# import base64"
   ]
  },
  {
   "cell_type": "code",
   "execution_count": 3,
   "metadata": {},
   "outputs": [],
   "source": [
    "APP_ID = os.getenv(\"APP_ID\")\n",
    "API_KEY = os.getenv(\"API_KEY\")"
   ]
  },
  {
   "cell_type": "code",
   "execution_count": null,
   "metadata": {},
   "outputs": [
    {
     "name": "stdout",
     "output_type": "stream",
     "text": [
      "Tell me which exercises you did? \n"
     ]
    }
   ],
   "source": [
    "# POST REQUEST\n",
    "# SITE\n",
    "# https://developer.nutritionix.com/\n",
    "\n",
    "# DOCUMENTATION\n",
    "# https://docs.google.com/document/d/1_q-K-ObMTZvO0qUEAxROrN3bwMujwAN25sLHwJzliK0/edit#\n",
    "\n",
    "# use the \"Exercise Endpoints\" --> Estimate calories burned for various exercises using natural language\n",
    "exercise_endpoint = \"https://trackapi.nutritionix.com/v2/natural/exercise\"\n",
    "\n",
    "# REQUIRED HEADERS\n",
    "# when authenticating with the API, you must send the x-app-id and x-app-key params as headers\n",
    "headers = {\n",
    "    \"x-app-id\": APP_ID,\n",
    "    \"x-app-key\": API_KEY,\n",
    "    \"Content-Type\": \"application/json\"\n",
    "}\n",
    "# while the input is empty run again and ask the question\n",
    "  \n",
    "user_parameters = {\n",
    "    \"query\": input(\"Tell me which exercises you did? \"),\n",
    "    \"gender\":\"male\",\n",
    "    \"weight_kg\":80,\n",
    "    \"height_cm\":1.81,\n",
    "    \"age\":26\n",
    "}\n",
    "\n",
    "# make a request to give some data to an exernal system\n",
    "response = requests.post(url=exercise_endpoint, json=user_parameters, headers=headers)\n",
    "data = response.json()\n",
    "print(data)\n",
    "\n",
    "# it gives back a json file with one key called exercises, which is a list made of exercises"
   ]
  },
  {
   "cell_type": "code",
   "execution_count": 11,
   "metadata": {},
   "outputs": [],
   "source": [
    "# DATE AND TIME \n",
    "today = datetime.today().strftime(\"%d/%m/%Y\")\n",
    "time = datetime.today().strftime(\"%X\")\n",
    "# time = f\"{today.hour}:{today.minute}:{today.second}\"\n",
    "\n",
    "# TOKEN\n",
    "BEARER_TOKEN = os.getenv(\"BEARER_TOKEN\")\n",
    "# encoded_bear_token = base64.b64encode(bearer_token.encode()).decode()"
   ]
  },
  {
   "cell_type": "code",
   "execution_count": 13,
   "metadata": {
    "collapsed": true
   },
   "outputs": [
    {
     "name": "stdout",
     "output_type": "stream",
     "text": [
      "{\n",
      "  \"workout\": {\n",
      "    \"date\": \"08/01/2022\",\n",
      "    \"time\": \"16:12:30\",\n",
      "    \"exercise\": \"Swimming\",\n",
      "    \"duration\": 30,\n",
      "    \"calories\": 240,\n",
      "    \"id\": 5\n",
      "  }\n",
      "}\n"
     ]
    }
   ],
   "source": [
    "# use sheety API --> https://dashboard.sheety.co/login\n",
    "# https://api.sheety.co/username/projectName/sheetName\n",
    "API_SHEETY_ENDPOINT = os.getenv(\"API_SHEETY_ENDPOINT\")\n",
    "\n",
    "# HEADERS\n",
    "headers = {\n",
    "    # we use bearer token instead of basic authorization, which uses username and password\n",
    "    \"Authorization\": \"Bearer \" + BEARER_TOKEN,\n",
    "    \"Content-Type\": \"application/json\"\n",
    "}\n",
    "\n",
    "for info in data['exercises']:\n",
    "    \n",
    "    # PARAMETERS\n",
    "    # Sheety expects your record to be nested in a singular root property named after your sheet.\n",
    "    # For example if your endpoint is named emails, nest your record in a property called email.\n",
    "    api_parameters = {\n",
    "        \"workout\": {\n",
    "            \"date\": today,\n",
    "            \"time\": time,\n",
    "            \"exercise\": info['name'].title(),\n",
    "            \"duration\": info['duration_min'],\n",
    "            \"calories\": info['nf_calories']\n",
    "        }\n",
    "    }\n",
    "\n",
    "    # create a new row\n",
    "    response = requests.post(url=API_SHEETY_ENDPOINT, json=api_parameters, headers=headers)\n",
    "    print(response.text)"
   ]
  }
 ],
 "metadata": {
  "kernelspec": {
   "display_name": "Python 3",
   "language": "python",
   "name": "python3"
  },
  "language_info": {
   "codemirror_mode": {
    "name": "ipython",
    "version": 3
   },
   "file_extension": ".py",
   "mimetype": "text/x-python",
   "name": "python",
   "nbconvert_exporter": "python",
   "pygments_lexer": "ipython3",
   "version": "3.8.5"
  }
 },
 "nbformat": 4,
 "nbformat_minor": 5
}
