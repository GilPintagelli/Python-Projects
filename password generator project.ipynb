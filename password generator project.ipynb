{
 "cells": [
  {
   "cell_type": "code",
   "execution_count": 1,
   "metadata": {},
   "outputs": [],
   "source": [
    "# Password Generator Project\n",
    "import random\n",
    "import pyperclip"
   ]
  },
  {
   "cell_type": "code",
   "execution_count": 2,
   "metadata": {},
   "outputs": [],
   "source": [
    "logo = \"\"\"\n",
    "    ____  ___   ___________       ______  ____  ____ \n",
    "   / __ \\/   | / ___/ ___/ |     / / __ \\/ __ \\/ __ \\\n",
    "  / /_/ / /| | \\__ \\\\__ \\| | /| / / / / / /_/ / / / /\n",
    " / ____/ ___ |___/ /__/ /| |/ |/ / /_/ / _, _/ /_/ / \n",
    "/_/ __/_/__|_/____/____/ |__/|__/\\____/_/ |_/_____/\n",
    "   /  |/  /___ _____  ____ _____ ____  _____         \n",
    "  / /|_/ / __ `/ __ \\/ __ `/ __ `/ _ \\/ ___/         \n",
    " / /  / / /_/ / / / / /_/ / /_/ /  __/ /             \n",
    "/_/  /_/\\__,_/_/ /_/\\__,_/\\__, /\\___/_/              \n",
    "                         /____/                      \n",
    "\n",
    "\"\"\""
   ]
  },
  {
   "cell_type": "code",
   "execution_count": 6,
   "metadata": {},
   "outputs": [],
   "source": [
    "def generate_password():\n",
    "\n",
    "    letters = ['a', 'b', 'c', 'd', 'e', 'f', 'g', 'h', 'i', 'j', 'k', 'l', 'm', 'n', 'o', 'p', 'q', 'r', 's', 't', 'u', 'v', 'w', 'x', 'y', 'z', 'A', 'B', 'C', 'D', 'E', 'F', 'G', 'H', 'I', 'J', 'K', 'L', 'M', 'N', 'O', 'P', 'Q', 'R', 'S', 'T', 'U', 'V', 'W', 'X', 'Y', 'Z']\n",
    "    numbers = ['0', '1', '2', '3', '4', '5', '6', '7', '8', '9']\n",
    "    symbols = ['!', '#', '$', '%', '&', '(', ')', '*', '+']\n",
    "\n",
    "    print(logo)\n",
    "    print(\"Welcome to the Password Generator!\")\n",
    "    \n",
    "    user_answer = input(\"Do you want to generate a password? y or n \").lower()\n",
    "    if user_answer == \"y\":\n",
    "        \n",
    "        nr_letters = int(input(\"How many letters would you like in your password?\\n\")) \n",
    "        nr_symbols = int(input(f\"How many symbols would you like?\\n\"))\n",
    "        nr_numbers = int(input(f\"How many numbers would you like?\\n\"))\n",
    "\n",
    "        password = []\n",
    "        # we need an empty variable because otherwise we get \"Error: variable not defined\"\n",
    "\n",
    "        # we can use list comprehension\n",
    "        password = [random.choice(letters) for letter in range(nr_letters)]\n",
    "        password += [random.choice(symbols) for symbol in range(nr_symbols)] \n",
    "        password += [random.choice(numbers) for number in range(nr_numbers)]\n",
    "\n",
    "        random.shuffle(password)\n",
    "\n",
    "        # join each item inside a list with join()\n",
    "        password = \"\".join(password)\n",
    "        pyperclip.copy(password)\n",
    "        print(password)\n",
    "        \n",
    "        generate_password()"
   ]
  }
 ],
 "metadata": {
  "kernelspec": {
   "display_name": "Python 3",
   "language": "python",
   "name": "python3"
  },
  "language_info": {
   "codemirror_mode": {
    "name": "ipython",
    "version": 3
   },
   "file_extension": ".py",
   "mimetype": "text/x-python",
   "name": "python",
   "nbconvert_exporter": "python",
   "pygments_lexer": "ipython3",
   "version": "3.8.5"
  }
 },
 "nbformat": 4,
 "nbformat_minor": 4
}
