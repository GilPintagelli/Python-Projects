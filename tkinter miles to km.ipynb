{
 "cells": [
  {
   "cell_type": "code",
   "execution_count": 29,
   "id": "1959be40",
   "metadata": {},
   "outputs": [],
   "source": [
    "from tkinter import *\n",
    "\n",
    "\n",
    "def miles_to_km():\n",
    "    \n",
    "    miles = float(miles_input.get())\n",
    "    km = round(miles * 1.609)\n",
    "    result = num_label.config(text=km)\n",
    "    \n",
    "    return result\n",
    "\n",
    "# TypeError: can't multiply sequence by non-int of type 'float' --> km = miles * 1.609 --> miles is not a float!\n",
    "    \n",
    "\n",
    "window = Tk()\n",
    "\n",
    "window.title(\"Miles to Km converter\")\n",
    "\n",
    "window.minsize(width=400,height=200)\n",
    "\n",
    "window.config(padx=30,pady=30)\n",
    "\n",
    "left_label = Label(text=\"is equal to\",font=10)\n",
    "left_label.grid(column=0,row=1)\n",
    "left_label.config(padx=10,pady=10)\n",
    "\n",
    "miles_label = Label(text=\"Miles\", font=10)\n",
    "miles_label.grid(column=2,row=0)\n",
    "miles_label.config(padx=10,pady=10)\n",
    "\n",
    "km_label = Label(text=\"Km\", font=10)\n",
    "km_label.grid(column=2,row=1)\n",
    "km_label.config(padx=10,pady=10)\n",
    "\n",
    "num_label = Label(text=0, font=2)\n",
    "num_label.grid(column=1,row=1)\n",
    "num_label.config(padx=10,pady=10)\n",
    "\n",
    "miles_input = Entry(width=20)\n",
    "miles_input.grid(column=1,row=0)\n",
    "\n",
    "calc_button = Button(text=\"calculate\", font=1, command=miles_to_km)\n",
    "calc_button.grid(column=1,row=2)\n",
    "\n",
    "\n",
    "window.mainloop()"
   ]
  },
  {
   "cell_type": "code",
   "execution_count": null,
   "id": "c49c470d",
   "metadata": {},
   "outputs": [],
   "source": []
  }
 ],
 "metadata": {
  "kernelspec": {
   "display_name": "Python 3",
   "language": "python",
   "name": "python3"
  },
  "language_info": {
   "codemirror_mode": {
    "name": "ipython",
    "version": 3
   },
   "file_extension": ".py",
   "mimetype": "text/x-python",
   "name": "python",
   "nbconvert_exporter": "python",
   "pygments_lexer": "ipython3",
   "version": "3.9.2"
  }
 },
 "nbformat": 4,
 "nbformat_minor": 5
}
