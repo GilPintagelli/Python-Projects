{
 "cells": [
  {
   "cell_type": "code",
   "execution_count": 3,
   "metadata": {},
   "outputs": [
    {
     "name": "stdout",
     "output_type": "stream",
     "text": [
      "Type 'encode' to encrypt, type 'decode' to decrypt:\n",
      "decode\n",
      "Type your message:\n",
      "jgnnq\n",
      "Type the shift number:\n",
      "2\n",
      "the decoded text is hello\n"
     ]
    }
   ],
   "source": [
    "# Ceasar Cypher\n",
    "\n",
    "from art import logo\n",
    "\n",
    "print(logo)\n",
    "\n",
    "alphabet = ['a', 'b', 'c', 'd', 'e', 'f', 'g', 'h', 'i', 'j', 'k', 'l', 'm', \n",
    "            'n', 'o', 'p', 'q', 'r', 's', 't', 'u', 'v', 'w', 'x', 'y', 'z']\n",
    "\n",
    "direction = input(\"Type 'encode' to encrypt, type 'decode' to decrypt:\\n\")    \n",
    "text = input(\"Type your message:\\n\").lower()\n",
    "shift = int(input(\"Type the shift number:\\n\"))\n",
    "\n",
    "\n",
    "def ceasar(plain_text,plain_shift,plain_direction): \n",
    " \n",
    "    ceasar_text = []\n",
    "\n",
    "    for position in range(len(plain_text)):\n",
    "        letter = plain_text[position]\n",
    "        ceasar_text.append(letter)\n",
    "    \n",
    "        if letter in alphabet:\n",
    "            # index() checks the index of a specific value\n",
    "            index = alphabet.index(letter)\n",
    "            \n",
    "            if plain_direction == 'encode':\n",
    "                # assign alphabet's value to list_index\n",
    "                # adding shift to index changes the actual letter\n",
    "                if index + plain_shift > 25:\n",
    "                    alp_2 = alphabet + alphabet\n",
    "                #'>' not supported between instances of 'str' and 'int' ---> because I tiped alphabet[index - shift] > 25\n",
    "                    ceasar_text[position] = alp_2[index + plain_shift]\n",
    "                else:\n",
    "                    ceasar_text[position] = alphabet[index + plain_shift]\n",
    "            elif plain_direction == 'decode':\n",
    "                if index + plain_shift > 25:\n",
    "                    alp_2 = alphabet + alphabet\n",
    "                    ceasar_text[position] = alp_2[index - plain_shift]\n",
    "                else:\n",
    "                    ceasar_text[position] = alphabet[index - plain_shift]\n",
    "\n",
    "        # join letters\n",
    "        cyper_text = ''.join(ceasar_text)\n",
    "    \n",
    "    print(f'the {plain_direction}d text is {cyper_text}')\n",
    "    #https://stackoverflow.com/questions/176918/finding-the-index-of-an-item-in-a-list\n",
    "    # IndexError ---> out of range --> What happens if you try to encode the word 'civilization'?\n",
    "                \n",
    "# def decrypt(plain_text,plain_shift):\n",
    " \n",
    "#     decode_text = ''\n",
    "    \n",
    "#     for letter in plain_text:\n",
    "#         position = alphabet.index(letter)\n",
    "#         # with decrypt we have to subtract plain_shift\n",
    "#         new_position = position - plain_shift\n",
    "#         new_letter = alphabet[new_position]\n",
    "        \n",
    "#         decode_text+=new_letter\n",
    "    \n",
    "#     print(f'The  text is {decode_text}')\n",
    "\n",
    "    \n",
    "ceasar(plain_text=text,plain_shift=shift,plain_direction=direction)"
   ]
  },
  {
   "cell_type": "code",
   "execution_count": null,
   "metadata": {},
   "outputs": [],
   "source": []
  }
 ],
 "metadata": {
  "kernelspec": {
   "display_name": "Python 3",
   "language": "python",
   "name": "python3"
  },
  "language_info": {
   "codemirror_mode": {
    "name": "ipython",
    "version": 3
   },
   "file_extension": ".py",
   "mimetype": "text/x-python",
   "name": "python",
   "nbconvert_exporter": "python",
   "pygments_lexer": "ipython3",
   "version": "3.8.5"
  }
 },
 "nbformat": 4,
 "nbformat_minor": 4
}
