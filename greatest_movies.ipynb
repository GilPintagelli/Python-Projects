{
 "cells": [
  {
   "cell_type": "code",
   "execution_count": 1,
   "metadata": {},
   "outputs": [],
   "source": [
    "# scrape a list the 100  greates movies from timeout.com"
   ]
  },
  {
   "cell_type": "code",
   "execution_count": 1,
   "metadata": {},
   "outputs": [],
   "source": [
    "from bs4 import BeautifulSoup\n",
    "import html\n",
    "import requests"
   ]
  },
  {
   "cell_type": "code",
   "execution_count": 2,
   "metadata": {},
   "outputs": [],
   "source": [
    "# MAKE A GET REQUEST\n",
    "response = requests.get(url=\"https://www.timeout.com/film/best-movies-of-all-time\")\n",
    "response.raise_for_status()"
   ]
  },
  {
   "cell_type": "code",
   "execution_count": 3,
   "metadata": {},
   "outputs": [],
   "source": [
    "# SET BEAUTIFUL SOUP\n",
    "# the content is structured in html --> we use an html parser to deal with this content \n",
    "soup = BeautifulSoup(response.text, \"html.parser\")"
   ]
  },
  {
   "cell_type": "code",
   "execution_count": 4,
   "metadata": {},
   "outputs": [],
   "source": [
    "list_movies = soup.find_all(name=\"h3\", class_=\"_h3_cuogz_1\")\n",
    "list_movies.pop(-1)\n",
    "text = html.escape(list_movies[0].get_text())\n",
    "# print(text.split(\"(\")[0].split(\".\")[1])"
   ]
  },
  {
   "cell_type": "code",
   "execution_count": 5,
   "metadata": {},
   "outputs": [],
   "source": [
    "with open(\"./100_greatest_movies.txt\", \"w\",encoding=\"utf-8\") as movies:\n",
    "    \n",
    "    for movie in list_movies:\n",
    "        to_add = html.escape(movie.getText())\n",
    "        movies.write(f\"{to_add}\\n\")"
   ]
  }
 ],
 "metadata": {
  "kernelspec": {
   "display_name": "Python 3",
   "language": "python",
   "name": "python3"
  },
  "language_info": {
   "codemirror_mode": {
    "name": "ipython",
    "version": 3
   },
   "file_extension": ".py",
   "mimetype": "text/x-python",
   "name": "python",
   "nbconvert_exporter": "python",
   "pygments_lexer": "ipython3",
   "version": "3.8.5"
  }
 },
 "nbformat": 4,
 "nbformat_minor": 5
}
