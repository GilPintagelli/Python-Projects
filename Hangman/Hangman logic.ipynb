{
 "cells": [
  {
   "cell_type": "code",
   "execution_count": null,
   "metadata": {},
   "outputs": [
    {
     "name": "stdout",
     "output_type": "stream",
     "text": [
      "['_', '_', '_', '_', '_', '_', '_', '_']\n",
      "Guess a letter: c\n",
      "['c', '_', '_', '_', '_', '_', '_', '_']\n",
      "Guess a letter: p\n",
      "['c', '_', '_', 'p', '_', '_', '_', '_']\n",
      "Guess a letter: l\n",
      "['c', '_', '_', 'p', '_', '_', '_', '_']\n"
     ]
    }
   ],
   "source": [
    "# list of words\n",
    "words = ['apartement', 'chess', 'circle']\n",
    "\n",
    "import random\n",
    "random_word = random.choice(words)\n",
    "\n",
    "#for each letter in 'random_word', add a '_' to 'blanks'\n",
    "blanks = [] # empty list\n",
    "for letter in random_word:\n",
    "    blanks+= '_'  # for each letter in random word add '_' to blanks\n",
    "    \n",
    "print(blanks)\n",
    "\n",
    "# use the while loop to let the user take a guess again\n",
    "while '_' in blanks:\n",
    "# the loop should only stop once the user has guessed all the letters\n",
    "# in the random word and blanks has no more '_'\n",
    "       \n",
    "    print(f'sorry, the correct word is {random_word}')\n",
    "    guess = input('Guess a letter: ').lower()\n",
    "\n",
    "    #loop through each position in random_word\n",
    "    # and if the letter at that position matches guess\n",
    "    # then reveal that letter in blanks at that position\n",
    "    for position in range(len(random_word)):  # this convert random_word in integers: position is a number\n",
    "        letter = random_word[position] # use position as index to access random_word's letters\n",
    "        if letter == guess:\n",
    "            blanks[position] = guess\n",
    "    print(blanks)\n",
    "    \n",
    "    # we can use 'not' to carry out a condition:\n",
    "    # once we guessed all the letter and blank has no underscores print 'you won'\n",
    "    # 'in' allows us to check if a particular element exists in a list\n",
    "    if '_' not in blanks:\n",
    "        print('you won')\n",
    "        # end_game = True\n",
    "    # when we dont have '_' anymore it means that 'blank' is not true\n",
    "    \n",
    "# while statements require some change to happen inside the while loop \n",
    "# that change the condition the while loop depends upon --> the code exits the while loop"
   ]
  }
 ],
 "metadata": {
  "kernelspec": {
   "display_name": "Python 3",
   "language": "python",
   "name": "python3"
  },
  "language_info": {
   "codemirror_mode": {
    "name": "ipython",
    "version": 3
   },
   "file_extension": ".py",
   "mimetype": "text/x-python",
   "name": "python",
   "nbconvert_exporter": "python",
   "pygments_lexer": "ipython3",
   "version": "3.8.5"
  }
 },
 "nbformat": 4,
 "nbformat_minor": 4
}
