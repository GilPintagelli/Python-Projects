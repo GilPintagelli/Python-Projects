{
 "cells": [
  {
   "cell_type": "code",
   "execution_count": 37,
   "metadata": {},
   "outputs": [],
   "source": [
    "import requests\n",
    "import smtplib\n",
    "from datetime import datetime, timedelta\n",
    "import re"
   ]
  },
  {
   "cell_type": "code",
   "execution_count": 3,
   "metadata": {},
   "outputs": [],
   "source": [
    "# https://www.alphavantage.co/documentation/\n",
    "# https://newsapi.org/docs/client-libraries/python\n",
    "\n",
    "API_key = \"\"\n",
    "API_news_key = \"\"\n",
    "\n",
    "CRYPTO_ENDPOINT = \"https://www.alphavantage.co/query\"\n",
    "NEWS_ENDPOINT = \"https://newsapi.org/v2/everything\"\n",
    "\n",
    "CRYPTOCURRENCY = \"BTC\"\n",
    "CRYPTO_NAME = \"Bitcoin\"\n",
    "CURRENCY = \"USD\"\n",
    "# EUR, JPY, HKD, GBP\n",
    "\n",
    "# API Parameters\n",
    "btc_parameters = {\n",
    "    \"function\":\"DIGITAL_CURRENCY_DAILY\",\n",
    "    \"symbol\":CRYPTOCURRENCY,\n",
    "    \"market\": CURRENCY,\n",
    "    \"apikey\":API_key\n",
    "}\n",
    "\n",
    "response = requests.get(url=CRYPTO_ENDPOINT, params=btc_parameters)\n",
    "response.raise_for_status()\n",
    "json_data = response.json()\n",
    "\n",
    "time_series_daily = json_data['Time Series (Digital Currency Daily)']"
   ]
  },
  {
   "cell_type": "code",
   "execution_count": 4,
   "metadata": {},
   "outputs": [],
   "source": [
    "# https://stackoverflow.com/questions/1712116/formatting-yesterdays-date-in-python\n",
    "today = datetime.today()\n",
    "yesterday = today - timedelta(days=1)\n",
    "yesterday = yesterday.strftime(\"%Y-%m-%d\")\n",
    "day_before = today - timedelta(days=2)\n",
    "day_before = day_before.strftime(\"%Y-%m-%d\")"
   ]
  },
  {
   "cell_type": "code",
   "execution_count": 5,
   "metadata": {},
   "outputs": [
    {
     "name": "stdout",
     "output_type": "stream",
     "text": [
      "43451.13 45832.01\n"
     ]
    }
   ],
   "source": [
    "# yesterday's and day's before closing points\n",
    "# we need to take this key '4b. close (USD)'\n",
    "yesterday_close = float(time_series_daily[yesterday]['4b. close (USD)'])\n",
    "day_before_close = float(time_series_daily[day_before]['4b. close (USD)'])"
   ]
  },
  {
   "cell_type": "code",
   "execution_count": 13,
   "metadata": {},
   "outputs": [
    {
     "name": "stdout",
     "output_type": "stream",
     "text": [
      "down to \n"
     ]
    }
   ],
   "source": [
    "# positive difference --> use abs() to get the absolute value of the result\n",
    "# if pos_difference is positive create a string that says \"stock up to\", else \"stock down to\"\n",
    "# pos_difference has to have a sign --> remove abs()\n",
    "pos_difference = yesterday_close - day_before_close\n",
    "\n",
    "if pos_difference > 0:\n",
    "    trend = \"up to \"\n",
    "else:\n",
    "    trend = \"down to \"\n",
    "\n",
    "print(trend)"
   ]
  },
  {
   "cell_type": "code",
   "execution_count": 7,
   "metadata": {},
   "outputs": [
    {
     "data": {
      "text/plain": [
       "5.48"
      ]
     },
     "execution_count": 7,
     "metadata": {},
     "output_type": "execute_result"
    }
   ],
   "source": [
    "# calculate the percentage difference\n",
    "# https://www.calculatorsoup.com/calculators/algebra/percent-difference-calculator.php\n",
    "diff_percent = round((pos_difference / yesterday_close) * 100,2)\n",
    "\n",
    "# here we have to use abs() in order to get rid of the sign\n",
    "diff_percent = abs(diff_percent)\n",
    "diff_percent"
   ]
  },
  {
   "cell_type": "code",
   "execution_count": 56,
   "metadata": {},
   "outputs": [],
   "source": [
    "# our threshold is 5 and if diff_percentage is greater than 5 then we get the news\n",
    "# for testing purposes we use lower threshold than diff_percentage\n",
    "\n",
    "news_parameters = {\n",
    "    \"apiKey\":API_news_key,\n",
    "    \"qInTitle\": CRYPTO_NAME\n",
    "}\n",
    "\n",
    "if diff_percent > 5:\n",
    "    # get the news\n",
    "    news = requests.get(url=NEWS_ENDPOINT, params=news_parameters)\n",
    "    news.raise_for_status()\n",
    "    # grab top three articles\n",
    "    articles = news.json()['articles'][:3]"
   ]
  },
  {
   "cell_type": "code",
   "execution_count": 52,
   "metadata": {
    "collapsed": true
   },
   "outputs": [
    {
     "data": {
      "text/plain": [
       "[{'source': {'id': None, 'name': 'New York Times'},\n",
       "  'author': 'Corey Kilgannon',\n",
       "  'title': 'Why New York State Is Experiencing a Bitcoin Boom',\n",
       "  'description': 'Cryptocurrency miners are flocking to New York’s faded industrial towns, prompting concern over the environmental impact of huge computer farms.',\n",
       "  'url': 'https://www.nytimes.com/2021/12/05/nyregion/bitcoin-mining-upstate-new-york.html',\n",
       "  'urlToImage': 'https://static01.nyt.com/images/2021/11/25/nyregion/00nybitcoin5/00nybitcoin5-facebookJumbo.jpg',\n",
       "  'publishedAt': '2021-12-06T00:42:28Z',\n",
       "  'content': 'The plant opening northeast of Niagara Falls this month, in Somerset, N.Y., is part of a $550 million project by Terawulf, a Bitcoin mining company. The project also includes a proposed 150-megawatt … [+1514 chars]'},\n",
       " {'source': {'id': 'bbc-news', 'name': 'BBC News'},\n",
       "  'author': 'https://www.facebook.com/bbcnews',\n",
       "  'title': \"Indian PM Modi's Twitter hacked with bitcoin tweet\",\n",
       "  'description': \"The Indian prime minister's account had a message stating that bitcoin would be distributed to citizens.\",\n",
       "  'url': 'https://www.bbc.co.uk/news/world-asia-india-59627124',\n",
       "  'urlToImage': 'https://ichef.bbci.co.uk/news/1024/branded_news/5998/production/_122063922_mediaitem122063921.jpg',\n",
       "  'publishedAt': '2021-12-12T10:59:57Z',\n",
       "  'content': \"Image source, AFP via Getty Images\\r\\nImage caption, Modi has has more than 70 million Twitter followers\\r\\nIndian Prime Minister Narendra Modi's Twitter account was hacked with a message saying India ha… [+854 chars]\"},\n",
       " {'source': {'id': 'reuters', 'name': 'Reuters'},\n",
       "  'author': 'Jonathan Stempel',\n",
       "  'title': 'Self-proclaimed bitcoin inventor largely prevails in $54 billion bitcoin trial - Reuters.com',\n",
       "  'description': 'A computer scientist who has claimed to be the inventor of bitcoin largely prevailed on Monday in a Florida jury trial over whether the estate of a former business partner deserved half of a bitcoin cache worth now about $54 billion.',\n",
       "  'url': 'https://www.reuters.com/article/us-crypto-currency-lawsuit-idUSKBN2IL25A',\n",
       "  'urlToImage': 'https://static.reuters.com/resources/r/?m=02&d=20211206&t=2&i=1583817488&r=LYNXMPEHB510V&w=800',\n",
       "  'publishedAt': '2021-12-06T22:27:00Z',\n",
       "  'content': '(Reuters) - A computer scientist who has claimed to be the inventor of bitcoin largely prevailed on Monday in a Florida jury trial over whether the estate of a former business partner deserved half o… [+1785 chars]'}]"
      ]
     },
     "execution_count": 52,
     "metadata": {},
     "output_type": "execute_result"
    }
   ],
   "source": [
    "articles"
   ]
  },
  {
   "cell_type": "code",
   "execution_count": 60,
   "metadata": {},
   "outputs": [
    {
     "name": "stdout",
     "output_type": "stream",
     "text": [
      "['Bitcoin: down to 5.48%\\nHeadline: Why New York State Is Experiencing a Bitcoin Boom\\nBrief: Cryptocurrency miners are flocking to New Yorks faded industrial towns, prompting concern over the environmental impact of huge computer farms.', 'Bitcoin: down to 5.48%\\nHeadline: Indian PM Modis Twitter hacked with bitcoin tweet\\nBrief: The Indian prime ministers account had a message stating that bitcoin would be distributed to citizens.', 'Bitcoin: down to 5.48%\\nHeadline: Selfproclaimed bitcoin inventor largely prevails in $54 billion bitcoin trial  Reuters.com\\nBrief: A computer scientist who has claimed to be the inventor of bitcoin largely prevailed on Monday in a Florida jury trial over whether the estate of a former business partner deserved half of a bitcoin cache worth now about $54 billion.']\n"
     ]
    }
   ],
   "source": [
    "# format articles by using a list comprehension\n",
    "f_articles = [f\"{CRYPTO_NAME}: {trend}{diff_percent}%\\nHeadline: {article['title']}\\nBrief: {article['description']}\" for article in articles]\n",
    "\n",
    "# UnicodeEncodeError: 'ascii' codec can't encode character '\\u2019' in position 229: ordinal not in range(128)\n",
    "f_articles = [re.sub(r\"[“”’'-]\", '',article) for article in f_articles]\n",
    "print(f_articles)"
   ]
  },
  {
   "cell_type": "code",
   "execution_count": 61,
   "metadata": {},
   "outputs": [],
   "source": [
    "# https://stackoverflow.com/questions/9942594/unicodeencodeerror-ascii-codec-cant-encode-character-u-xa0-in-position-20\n",
    "# https://gankrin.org/fix-unicodeencodeerror-ascii-codec-cant-encode-character/\n",
    "\n",
    "my_email = \"\"\n",
    "pw = \"\"\n",
    "target = \"\"\n",
    "\n",
    "# send emails\n",
    "for article in f_articles:\n",
    "    with smtplib.SMTP(\"smtp.gmail.com\") as connection:\n",
    "        connection.starttls()\n",
    "        connection.login(user=my_email, password=pw)\n",
    "        connection.sendmail(from_addr=my_email, to_addrs=target, msg=f\"Subject:Bitcoin News \\n\\n{article}\")"
   ]
  }
 ],
 "metadata": {
  "kernelspec": {
   "display_name": "Python 3",
   "language": "python",
   "name": "python3"
  },
  "language_info": {
   "codemirror_mode": {
    "name": "ipython",
    "version": 3
   },
   "file_extension": ".py",
   "mimetype": "text/x-python",
   "name": "python",
   "nbconvert_exporter": "python",
   "pygments_lexer": "ipython3",
   "version": "3.8.5"
  }
 },
 "nbformat": 4,
 "nbformat_minor": 5
}
