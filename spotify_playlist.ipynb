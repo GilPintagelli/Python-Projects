{
 "cells": [
  {
   "cell_type": "code",
   "execution_count": 53,
   "metadata": {},
   "outputs": [],
   "source": [
    "import requests\n",
    "import spotipy\n",
    "from bs4 import BeautifulSoup\n",
    "from spotipy.oauth2 import SpotifyOAuth"
   ]
  },
  {
   "cell_type": "code",
   "execution_count": 3,
   "metadata": {},
   "outputs": [],
   "source": [
    "SPOTIFY_CLIENT_ID = \"\" \n",
    "SPOTIFY_CLIENT_SECRET = \"\""
   ]
  },
  {
   "cell_type": "code",
   "execution_count": 55,
   "metadata": {},
   "outputs": [
    {
     "name": "stdout",
     "output_type": "stream",
     "text": [
      "what year do you want to travel to? type the date in this format YYYY-MM-DD 1995-03-07\n"
     ]
    }
   ],
   "source": [
    "URL = f\"https://www.billboard.com/charts/the-billboard-hot-100/1995-03-07/\"\n",
    "response = requests.get(url=URL)\n",
    "\n",
    "soup = BeautifulSoup(response.text, \"html.parser\")"
   ]
  },
  {
   "cell_type": "code",
   "execution_count": 56,
   "metadata": {},
   "outputs": [
    {
     "data": {
      "text/plain": [
       "107"
      ]
     },
     "execution_count": 56,
     "metadata": {},
     "output_type": "execute_result"
    }
   ],
   "source": [
    "len(soup.select(selector=\"li h3\"))"
   ]
  },
  {
   "cell_type": "code",
   "execution_count": 57,
   "metadata": {},
   "outputs": [],
   "source": [
    "# use bs4 to scrape top 100 songs from a particular date of our choice\n",
    "songs = [song.string for song in soup.select(selector=\"li h3\")]\n",
    "songs = songs[:100]\n",
    "songs = [song.strip() for song in songs]\n",
    "\n",
    "# extract all the song titles --> this are exactely 100\n",
    "artists = [artist.string for artist in soup.select(selector=\".a-truncate-ellipsis-2line\")]\n",
    "artists = [artist.strip() for artist in artists]"
   ]
  },
  {
   "cell_type": "code",
   "execution_count": 58,
   "metadata": {
    "collapsed": true
   },
   "outputs": [
    {
     "name": "stdout",
     "output_type": "stream",
     "text": [
      "['Madonna', 'TLC', 'Soul For Real', 'Brandy', \"Des'ree\", 'Real McCoy', 'Boyz II Men', 'Brownstone', 'Sheryl Crow', 'Hootie & The Blowfish', 'The Notorious B.I.G.', '4PM', 'Bon Jovi', 'Dionne Farris', 'Tom Petty', 'Melissa Etheridge', 'Adina Howard', 'TLC', 'Subway (Featuring 702)', 'K-Ci Hailey', 'BLACKstreet', 'Martin Page', 'Corona', 'Melissa Etheridge', 'Boyz II Men', 'Immature', 'Gloria Estefan', 'N2U', 'Jade', 'Real McCoy', '2Pac', 'Vanessa Williams', 'Ini Kamoze', 'Montell Jordan', 'Bonnie Raitt', 'Jamie Walters', 'Brandy', 'Amy Grant With Vince Gill', '20 Fingers Featuring Gillette', 'Boyz II Men', '2 Unlimited', 'Bone Thugs-N-Harmony Featuring Eazy-E', 'R.E.M.', 'Crystal Waters', '69 Boyz', 'Jon Secada', 'Janet Jackson', 'Sheryl Crow', \"John Mellencamp With Me'Shell Ndegeocello\", 'Gloria Estefan', 'Firehouse', 'Elton John', 'Craig Mack', 'Blessid Union Of Souls', 'Stevie B', 'Andru Donalds', 'Simple Minds', 'Channel Live', 'Portishead', 'Nine', 'Capleton', 'Lil Suzy', \"Ol' Dirty Bastard\", 'Stevie Wonder', '69 Boyz', 'The Flaming Lips', 'All-4-One', 'Gillette', 'Mobb Deep', 'Method Man', 'Willi One Blood', 'Changing Faces', 'Usher', 'Keith Murray', 'E-40 (Featuring Leviti)', 'Jewell', 'Keith Martin', 'Annie Lennox', 'K7', 'Mary J. Blige', 'Vicious', 'Crystal Waters', 'Scarface Feat. Ice Cube', 'Luther Vandross', '95 South', 'Max-A-Million', \"Livin' Joy\", 'Missjones', 'John Waite', 'Hootie & The Blowfish', 'Freedy Johnston', 'IV Xample', 'Too $hort', 'Rednex', 'Karyn White', 'Scarface', 'Shabba Ranks', 'Dru Down', 'Anita Baker', 'Redman']\n",
      "['Take A Bow', 'Creep', 'Candy Rain', 'Baby', 'You Gotta Be', 'Another Night', 'On Bended Knee', 'If You Love Me', 'Strong Enough', 'Hold My Hand', 'Big Poppa/Warning', 'Sukiyaki', 'Always', 'I Know', \"You Don't Know How It Feels\", 'Like The Way I Do/If I Wanted To', 'Freak Like Me', 'Red Light Special', \"This Lil' Game We Play\", \"If You Think You're Lonely Now\", 'Before I Let You Go', 'In The House Of Stone And Light', 'The Rhythm Of The Night', \"I'm The Only One\", 'Thank You', 'Constantly', 'Everlasting Love', 'I Miss You', 'Every Day Of The Week', 'Run Away', 'Dear Mama/Old School', 'The Sweetest Days', 'Here Comes The Hotstepper (From \"Ready To Wear\")', 'This Is How We Do It', 'You Got It (From \"Boys On The Side\")', 'Hold On', 'I Wanna Be Down', 'House Of Love', 'Short Dick Man', \"I'll Make Love To You\", 'Get Ready For This', 'Foe Tha Love Of $', 'Bang And Blame', '100% Pure Love', 'Tootsee Roll', 'Mental Picture', \"You Want This/70's Love Groove\", 'All I Wanna Do', 'Wild Night', 'Turn The Beat Around (From \"The Specialist\")', 'I Live My Life For You', 'Believe', 'Get Down', 'I Believe', 'Dream About You/Funky Melody', 'Mishale', \"She's A River\", 'Mad Izm', 'Sour Times (Nobody Loves Me)', 'Whutcha Want?', 'Tour', 'Promise Me', 'Brooklyn Zoo', 'For Your Love', 'Kitty Kitty', \"She Don't Use Jelly\", \"(She's Got) Skillz\", 'Mr. Personality', 'Shook Ones Part II', 'Bring The Pain', 'Whiney, Whiney (From \"Dumb And Dumber\")', \"Foolin' Around\", 'Think Of You', 'Get Lifted', '1-Luv', 'Woman To Woman', 'Never Find Someone Like You', 'No More \"I Love You\\'s\"', 'Move It Like This', 'Be Happy', 'Nika', 'What I Need', \"People Don't Believe\", 'Always And Forever', 'Rodeo', 'Fat Boy', 'Dreamer', 'Where I Wanna Be Boy', 'How Did I Get By Without You?', 'Let Her Cry', 'Bad Reputation', \"I'd Rather Be Alone\", 'Cocktales', 'Cotton Eye Joe', 'Can I Stay With You', 'I Never Seen A Man Cry (aka I Seen A Man Die)', \"Let's Get It On\", 'Pimp Of The Year', 'I Apologize', \"Can't Wait\"]\n"
     ]
    }
   ],
   "source": [
    "print(artists)\n",
    "print(songs)"
   ]
  },
  {
   "cell_type": "code",
   "execution_count": 59,
   "metadata": {},
   "outputs": [],
   "source": [
    "# SPOTIPY DOCUMENTATION\n",
    "# https://spotipy.readthedocs.io/en/2.19.0/\n",
    "\n",
    "# use spotipy to create a new playlist with the titles\n",
    "# create request by implementing Authorization Code Flow\n",
    "\n",
    "scope=\"playlist-modify-private\"\n",
    "user_name = \"\"\n",
    "redirect_uri=\"https://example.com/callback/\"\n",
    "\n",
    "# access user account\n",
    "spotify = spotipy.Spotify(\n",
    "    auth_manager=SpotifyOAuth(\n",
    "        scope=scope, \n",
    "        client_id=SPOTIFY_CLIENT_ID, \n",
    "        client_secret=SPOTIFY_CLIENT_SECRET,\n",
    "        redirect_uri=redirect_uri,\n",
    "        username=user_name\n",
    "    ))"
   ]
  },
  {
   "cell_type": "code",
   "execution_count": 60,
   "metadata": {},
   "outputs": [
    {
     "name": "stdout",
     "output_type": "stream",
     "text": [
      "1995\n"
     ]
    }
   ],
   "source": [
    "year = date.split(\"-\")[0]\n",
    "print(year)"
   ]
  },
  {
   "cell_type": "code",
   "execution_count": 1,
   "metadata": {},
   "outputs": [],
   "source": [
    "# create playlist\n",
    "playlist_description = input(\"Describe your playlist: \")\n",
    "\n",
    "user_playlist = spotify.user_playlist_create(user=user_name,\n",
    "                             name=f\"Billboard Hot {year}\",\n",
    "                             public=False,\n",
    "                             description=playlist_description)"
   ]
  },
  {
   "cell_type": "code",
   "execution_count": 62,
   "metadata": {},
   "outputs": [],
   "source": [
    "# take id of playlist\n",
    "playlist_id = user_playlist['id']"
   ]
  },
  {
   "cell_type": "code",
   "execution_count": 63,
   "metadata": {},
   "outputs": [],
   "source": [
    "tracks = []\n",
    "\n",
    "for i in range(0, len(artists)):\n",
    "    \n",
    "    result = spotify.search(q=f\"track:{songs[i]} year:{year} artist:{artists[i]}\", type='track', limit=1)\n",
    "    \n",
    "    try:\n",
    "        # this is the track id for the specific song\n",
    "        tracks.append(result['tracks']['items'][0]['uri'])\n",
    "        \n",
    "    # in case that song is not available, we go to the next song\n",
    "    except IndexError:\n",
    "        pass"
   ]
  },
  {
   "cell_type": "code",
   "execution_count": 64,
   "metadata": {},
   "outputs": [
    {
     "data": {
      "text/plain": [
       "28"
      ]
     },
     "execution_count": 64,
     "metadata": {},
     "output_type": "execute_result"
    }
   ],
   "source": [
    "len(tracks)"
   ]
  },
  {
   "cell_type": "code",
   "execution_count": 1,
   "metadata": {},
   "outputs": [],
   "source": [
    "# the \"tracks\" parameter is a list of track URIs, URLs or IDs --> our list \"traks\" is made of URIs\n",
    "spotify.user_playlist_add_tracks(user=user_name, playlist_id=playlist_id, tracks=tracks)"
   ]
  }
 ],
 "metadata": {
  "kernelspec": {
   "display_name": "Python 3",
   "language": "python",
   "name": "python3"
  },
  "language_info": {
   "codemirror_mode": {
    "name": "ipython",
    "version": 3
   },
   "file_extension": ".py",
   "mimetype": "text/x-python",
   "name": "python",
   "nbconvert_exporter": "python",
   "pygments_lexer": "ipython3",
   "version": "3.8.5"
  }
 },
 "nbformat": 4,
 "nbformat_minor": 5
}
