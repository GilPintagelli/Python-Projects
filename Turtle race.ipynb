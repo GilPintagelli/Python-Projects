{
 "cells": [
  {
   "cell_type": "code",
   "execution_count": 1,
   "metadata": {},
   "outputs": [
    {
     "name": "stdout",
     "output_type": "stream",
     "text": [
      "Sorry, you lost\n",
      "the winner is blue\n"
     ]
    }
   ],
   "source": [
    "from turtle import Turtle, Screen\n",
    "import random\n",
    "\n",
    "screen = Screen()\n",
    "\n",
    "screen.setup(width=500, height=400)\n",
    "\n",
    "screen.bgcolor('yellowgreen')\n",
    "\n",
    "#-------------------------------------\n",
    "\n",
    "user_bet = screen.textinput(title=\"make your bet\",prompt=\"which turtle will win the race? enter a color\")\n",
    "\n",
    "is_race_on = False\n",
    "\n",
    "colors = [\"yellow\", \"purple\", \"green\", \"red\", \"orange\", \"blue\"]\n",
    "\n",
    "y_positions = [-100, -60, -30, 0, 30, 60]\n",
    "turtles = []\n",
    "letuce_booster = []\n",
    "\n",
    "for turtle_index in range(0,6):\n",
    "    new_turtle = Turtle(shape=\"turtle\")\n",
    "    new_turtle.color(colors[turtle_index])\n",
    "    new_turtle.penup()\n",
    "    new_turtle.goto(x=-230,y=y_positions[turtle_index])\n",
    "    turtles.append(new_turtle)\n",
    "\n",
    "for index in range(0,6):\n",
    "    letuce = Turtle(shape=\"circle\")\n",
    "    letuce.color('gold')\n",
    "    letuce.penup()\n",
    "    letuce.turtlesize(.5,.5,.5)\n",
    "    letuce.setpos(x=60, y=y_positions[index])\n",
    "    letuce_booster.append(letuce)\n",
    "\n",
    "if user_bet:\n",
    "    is_race_on = True\n",
    "\n",
    "while is_race_on:\n",
    "    \n",
    "    for turtle in turtles:\n",
    "        \n",
    "        if turtle.xcor()>230:\n",
    "            \n",
    "            is_race_on = False\n",
    "\n",
    "            winner = turtle.pencolor()\n",
    "            if user_bet.lower() == winner:\n",
    "                print(f\"Congrats! You won!\")\n",
    "            else:\n",
    "                print(f\"Sorry, you lost\")\n",
    "            print(f\"the winner is {winner}\")\n",
    "            \n",
    "\n",
    "        elif turtle.xcor() >= 55:\n",
    "            speed = random.randint(10,15)\n",
    "            turtle.forward(speed)\n",
    "            turtle.turtlesize(1.5,1.5)\n",
    "            \n",
    "        else:\n",
    "            rand_distance = random.randint(0,10)\n",
    "            turtle.forward(rand_distance)\n",
    "\n",
    "screen.exitonclick()"
   ]
  },
  {
   "cell_type": "raw",
   "metadata": {},
   "source": []
  },
  {
   "cell_type": "code",
   "execution_count": null,
   "metadata": {},
   "outputs": [],
   "source": []
  }
 ],
 "metadata": {
  "kernelspec": {
   "display_name": "Python 3",
   "language": "python",
   "name": "python3"
  },
  "language_info": {
   "codemirror_mode": {
    "name": "ipython",
    "version": 3
   },
   "file_extension": ".py",
   "mimetype": "text/x-python",
   "name": "python",
   "nbconvert_exporter": "python",
   "pygments_lexer": "ipython3",
   "version": "3.8.5"
  }
 },
 "nbformat": 4,
 "nbformat_minor": 5
}
