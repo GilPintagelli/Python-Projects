{
 "cells": [
  {
   "cell_type": "code",
   "execution_count": 310,
   "metadata": {},
   "outputs": [],
   "source": [
    "import pandas as pd\n",
    "import datetime as dt\n",
    "import random\n",
    "import smtplib"
   ]
  },
  {
   "cell_type": "code",
   "execution_count": 311,
   "metadata": {},
   "outputs": [
    {
     "data": {
      "text/html": [
       "<div>\n",
       "<style scoped>\n",
       "    .dataframe tbody tr th:only-of-type {\n",
       "        vertical-align: middle;\n",
       "    }\n",
       "\n",
       "    .dataframe tbody tr th {\n",
       "        vertical-align: top;\n",
       "    }\n",
       "\n",
       "    .dataframe thead th {\n",
       "        text-align: right;\n",
       "    }\n",
       "</style>\n",
       "<table border=\"1\" class=\"dataframe\">\n",
       "  <thead>\n",
       "    <tr style=\"text-align: right;\">\n",
       "      <th></th>\n",
       "      <th>name</th>\n",
       "      <th>email</th>\n",
       "      <th>year</th>\n",
       "      <th>month</th>\n",
       "      <th>day</th>\n",
       "    </tr>\n",
       "  </thead>\n",
       "  <tbody>\n",
       "    <tr>\n",
       "      <th>0</th>\n",
       "      <td>Luigi</td>\n",
       "      <td>luigi@yahoo.com</td>\n",
       "      <td>1995</td>\n",
       "      <td>12</td>\n",
       "      <td>23</td>\n",
       "    </tr>\n",
       "    <tr>\n",
       "      <th>1</th>\n",
       "      <td>Lorenzo</td>\n",
       "      <td>lorenzo@gmail.com</td>\n",
       "      <td>1996</td>\n",
       "      <td>11</td>\n",
       "      <td>8</td>\n",
       "    </tr>\n",
       "    <tr>\n",
       "      <th>2</th>\n",
       "      <td>Giovanni</td>\n",
       "      <td>giovanni@hotmail.com</td>\n",
       "      <td>1994</td>\n",
       "      <td>1</td>\n",
       "      <td>11</td>\n",
       "    </tr>\n",
       "  </tbody>\n",
       "</table>\n",
       "</div>"
      ],
      "text/plain": [
       "       name                 email  year  month  day\n",
       "0     Luigi       luigi@yahoo.com  1995     12   23\n",
       "1   Lorenzo     lorenzo@gmail.com  1996     11    8\n",
       "2  Giovanni  giovanni@hotmail.com  1994      1   11"
      ]
     },
     "execution_count": 311,
     "metadata": {},
     "output_type": "execute_result"
    }
   ],
   "source": [
    "df = pd.read_csv(\"./birthdays.csv\")\n",
    "df.head()"
   ]
  },
  {
   "cell_type": "code",
   "execution_count": 216,
   "metadata": {},
   "outputs": [],
   "source": [
    "# names = df.get(\"name\")\n",
    "# names[1]\n",
    "# \"Lorenzo\""
   ]
  },
  {
   "cell_type": "code",
   "execution_count": 253,
   "metadata": {},
   "outputs": [
    {
     "name": "stdout",
     "output_type": "stream",
     "text": [
      "Hey Luigi,\n",
      "\n",
      "Happy birthday! Have a wonderful time today and eat lots of cake!\n",
      "\n",
      "Lots of love,\n",
      "\n",
      "Your friend\n"
     ]
    }
   ],
   "source": [
    "# GRAB DAY AND MONTH\n",
    "today = dt.datetime.today()\n",
    "day = today.day\n",
    "month = today.month\n",
    "\n",
    "\n",
    "# EMAIL AND PW\n",
    "my_email = \"\"\n",
    "pw = \"\"\n",
    "\n",
    "\n",
    "for ind,row in df.iterrows():\n",
    "    \n",
    "    # FOR EACH USER, CHECK IF TODAY IS THEIR BDAY\n",
    "    if day == row.day and month == row.month:\n",
    "        \n",
    "        user_email = row.email\n",
    "        # row.name gives us an index instead of a name!\n",
    "        user_name_index = row.name\n",
    "        # get the name of the user that matches day and month\n",
    "        user_name = names[user_name_index]\n",
    "        # print(user_name,user_email)\n",
    "        \n",
    "        \n",
    "        # PICK A RANDOM LETTER AND CHANGE NAME\n",
    "        numbers = [\"1\",\"2\",\"3\"]\n",
    "        file = f\"./letter_templates/letter_{random.choice(numbers)}.txt\"\n",
    "        with open(file, \"r\") as random_letter:\n",
    "            letter = random_letter.read()\n",
    "            letter = letter.replace(\"Angela\",\"Your friend\")\n",
    "            letter = letter.replace(\"[NAME]\",user_name)\n",
    "            print(letter)\n",
    "\n",
    "        \n",
    "        # SEND EMAIL\n",
    "        with smtplib.SMTP(\"smtp.gmail.com\") as connection:\n",
    "            connection.starttls()\n",
    "            connection.login(user=my_email,password=pw)\n",
    "            connection.sendmail(from_addr=my_email,\n",
    "                                to_addrs=user_email,\n",
    "                                msg=f\"Subject: Happy B-Day! \\n\\n {letter}\")"
   ]
  }
 ],
 "metadata": {
  "kernelspec": {
   "display_name": "Python 3",
   "language": "python",
   "name": "python3"
  },
  "language_info": {
   "codemirror_mode": {
    "name": "ipython",
    "version": 3
   },
   "file_extension": ".py",
   "mimetype": "text/x-python",
   "name": "python",
   "nbconvert_exporter": "python",
   "pygments_lexer": "ipython3",
   "version": "3.8.5"
  }
 },
 "nbformat": 4,
 "nbformat_minor": 5
}
