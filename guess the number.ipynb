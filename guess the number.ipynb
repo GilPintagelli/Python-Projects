{
 "cells": [
  {
   "cell_type": "code",
   "execution_count": 1,
   "metadata": {},
   "outputs": [],
   "source": [
    "def guess_the_number():\n",
    "    \n",
    "    logo = \"\"\"\n",
    "      ________                                __  .__                                 ___.                 \n",
    " /  _____/ __ __   ____   ______ ______ _/  |_|  |__   ____     ____  __ __  _____\\_ |__   ___________ \n",
    "/   \\  ___|  |  \\_/ __ \\ /  ___//  ___/ \\   __\\  |  \\_/ __ \\   /    \\|  |  \\/     \\| __ \\_/ __ \\_  __ \\\n",
    "\\    \\_\\  \\  |  /\\  ___/ \\___ \\ \\___ \\   |  | |   Y  \\  ___/  |   |  \\  |  /  Y Y  \\ \\_\\ \\  ___/|  | \\/\n",
    " \\______  /____/  \\___  >____  >____  >  |__| |___|  /\\___  > |___|  /____/|__|_|  /___  /\\___  >__|   \n",
    "        \\/            \\/     \\/     \\/             \\/     \\/       \\/            \\/    \\/     \\/    \n",
    "    \"\"\"\n",
    "    \n",
    "\n",
    "    print(logo)\n",
    "    print('Welcome to the number guessing game!')\n",
    "    print(\"I'm thinking of a number between 1 and 100\")\n",
    "    difficulty = input(\"Choose a difficulty. Type 'easy' or 'hard': \")\n",
    "\n",
    "    # choose difficulties and define attempts\n",
    "    # \"attempts\" is a global scope variable\n",
    "    if difficulty == 'hard':\n",
    "        attempts = 5\n",
    "    elif difficulty == 'easy':\n",
    "        attempts = 10\n",
    "\n",
    "    # choose a random number between 0 and 100 and store it in a variable\n",
    "    import random\n",
    "    correct_answer = random.randint(0,100)\n",
    "    # print(correct_answer)\n",
    "\n",
    "    #----------user experience--------------\n",
    "    # each time user make a guess we make sure they still have remaining guesses\n",
    "    game = True\n",
    "    while game:\n",
    "\n",
    "        print(f\"You have {attempts} remaining to guess the answer\")\n",
    "\n",
    "        # let the user guess the correct number\n",
    "        guessed_number = int(input(\"Make a guess: \"))\n",
    "\n",
    "        # in this block of code we compare the correct answer with the user's answer\n",
    "        # when the answer is wrong we should decrease the number of attempts\n",
    "        if guessed_number > correct_answer:\n",
    "            print('Too high. Guess again')\n",
    "            attempts -= 1\n",
    "        elif guessed_number == correct_answer:\n",
    "            print(f\"you got it! the right answer is {correct_answer}\")\n",
    "            game = False\n",
    "        else:\n",
    "            print('Too low. Guess again')\n",
    "            attempts -= 1\n",
    "\n",
    "        if attempts == 0:\n",
    "            print(f\"Psst! The correct answer is {correct_answer}\")\n",
    "            game = False\n",
    "    \n",
    "    # use the Recursion\n",
    "    if input(\"You want to play again? 'y' or 'n' \") == 'y':\n",
    "        guess_the_number()"
   ]
  },
  {
   "cell_type": "code",
   "execution_count": null,
   "metadata": {},
   "outputs": [
    {
     "name": "stdout",
     "output_type": "stream",
     "text": [
      "\n",
      "      ________                                __  .__                                 ___.                 \n",
      " /  _____/ __ __   ____   ______ ______ _/  |_|  |__   ____     ____  __ __  _____\\_ |__   ___________ \n",
      "/   \\  ___|  |  \\_/ __ \\ /  ___//  ___/ \\   __\\  |  \\_/ __ \\   /    \\|  |  \\/     \\| __ \\_/ __ \\_  __ \\    \\_\\  \\  |  /\\  ___/ \\___ \\ \\___ \\   |  | |   Y  \\  ___/  |   |  \\  |  /  Y Y  \\ \\_\\ \\  ___/|  | \\/\n",
      " \\______  /____/  \\___  >____  >____  >  |__| |___|  /\\___  > |___|  /____/|__|_|  /___  /\\___  >__|   \n",
      "        \\/            \\/     \\/     \\/             \\/     \\/       \\/            \\/    \\/     \\/    \n",
      "    \n",
      "Welcome to the number guessing game!\n",
      "I'm thinking of a number between 1 and 100\n",
      "Choose a difficulty. Type 'easy' or 'hard': hard\n",
      "You have 5 remaining to guess the answer\n",
      "Make a guess: 20\n",
      "Too low. Guess again\n",
      "You have 4 remaining to guess the answer\n",
      "Make a guess: 60\n",
      "Too low. Guess again\n",
      "You have 3 remaining to guess the answer\n",
      "Make a guess: 90\n",
      "Too low. Guess again\n",
      "You have 2 remaining to guess the answer\n",
      "Make a guess: 95\n",
      "Too high. Guess again\n",
      "You have 1 remaining to guess the answer\n",
      "Make a guess: 93\n",
      "Too high. Guess again\n",
      "Psst! The correct answer is 91\n"
     ]
    }
   ],
   "source": [
    "guess_the_number()"
   ]
  },
  {
   "cell_type": "code",
   "execution_count": null,
   "metadata": {},
   "outputs": [],
   "source": []
  }
 ],
 "metadata": {
  "kernelspec": {
   "display_name": "Python 3",
   "language": "python",
   "name": "python3"
  },
  "language_info": {
   "codemirror_mode": {
    "name": "ipython",
    "version": 3
   },
   "file_extension": ".py",
   "mimetype": "text/x-python",
   "name": "python",
   "nbconvert_exporter": "python",
   "pygments_lexer": "ipython3",
   "version": "3.8.5"
  }
 },
 "nbformat": 4,
 "nbformat_minor": 5
}
